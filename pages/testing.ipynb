{
 "cells": [
  {
   "cell_type": "code",
   "execution_count": 10,
   "metadata": {},
   "outputs": [
    {
     "name": "stdout",
     "output_type": "stream",
     "text": [
      "['AFDMQT', 'AFDAPX', 'AFDDTX', 'AFDGRR', 'AFDIWX']\n",
      "    month  count\n",
      "0       1     30\n",
      "1       2     16\n",
      "2       3    481\n",
      "3       4   1197\n",
      "4       5   2757\n",
      "5       6   3059\n",
      "6       7   3482\n",
      "7       8   2605\n",
      "8       9    748\n",
      "9      10    101\n",
      "10     11     13\n",
      "11     12      5\n"
     ]
    }
   ],
   "source": [
    "import pandas as pd\n",
    "from pathlib import Path\n",
    "import numpy as np\n",
    "dts = []\n",
    "product = []\n",
    "#p = Path('/home/tjturnage')\n",
    "p = Path('C:/data/scripts')\n",
    "\n",
    "\n",
    "q = p / 'multipage' / 'assets' / 'fsw_output.txt'\n",
    "\n",
    "if q.exists():\n",
    "    DATA = q\n",
    "else:\n",
    "    DATA = \"assets/fsw_output.txt\"\n",
    "\n",
    "dts = []\n",
    "product = []\n",
    "with open(DATA,'r', encoding='utf_8') as src:\n",
    "    for line in src.readlines():\n",
    "        if line[0] in ('0','1'):\n",
    "            values = line.split('\\t')\n",
    "            dts.append(values[0])\n",
    "            product.append(values[1][1:])\n",
    "\n",
    "#print(dts,product)\n",
    "dts_pd = pd.to_datetime(dts,format='%m-%d-%Y %H:%M', infer_datetime_format=False)\n",
    "data = {'dts':dts_pd, 'product':product}\n",
    "df_temp = pd.DataFrame(data)\n",
    "df_temp.set_index('dts', inplace=True)\n",
    "unique_prods = list(df_temp['product'].unique())\n",
    "print(unique_prods)\n",
    "for p in unique_prods:\n",
    "    df_temp[p] = np.where(df_temp['product'] == p,1,0).cumsum()\n",
    "df_temp['count'] = 1\n",
    "df_temp['month'] = df_temp.index.month\n",
    "df_temp['Year'] = df_temp.index.year\n",
    "#print(df_temp)\n",
    "\n",
    "products=unique_prods[1:-1]\n",
    "\n",
    "df_filtered = df_temp[df_temp[\"product\"].isin(products)]\n",
    "df_filtered = (\n",
    "    df_filtered.groupby([\"month\"])[[\"count\"]]\n",
    "    .sum()\n",
    "    .reset_index()\n",
    ")\n",
    "\n",
    "print(df_filtered)"
   ]
  },
  {
   "cell_type": "code",
   "execution_count": 3,
   "metadata": {},
   "outputs": [
    {
     "ename": "FileNotFoundError",
     "evalue": "[Errno 2] No such file or directory: 'assets/fsw_output.txt'",
     "output_type": "error",
     "traceback": [
      "\u001b[1;31m---------------------------------------------------------------------------\u001b[0m",
      "\u001b[1;31mFileNotFoundError\u001b[0m                         Traceback (most recent call last)",
      "\u001b[1;32mc:\\data\\scripts\\multipage\\pages\\testing.ipynb Cell 2\u001b[0m in \u001b[0;36m<cell line: 34>\u001b[1;34m()\u001b[0m\n\u001b[0;32m     <a href='vscode-notebook-cell:/c%3A/data/scripts/multipage/pages/testing.ipynb#W1sZmlsZQ%3D%3D?line=31'>32</a>\u001b[0m dts \u001b[39m=\u001b[39m []\n\u001b[0;32m     <a href='vscode-notebook-cell:/c%3A/data/scripts/multipage/pages/testing.ipynb#W1sZmlsZQ%3D%3D?line=32'>33</a>\u001b[0m product \u001b[39m=\u001b[39m []\n\u001b[1;32m---> <a href='vscode-notebook-cell:/c%3A/data/scripts/multipage/pages/testing.ipynb#W1sZmlsZQ%3D%3D?line=33'>34</a>\u001b[0m \u001b[39mwith\u001b[39;00m \u001b[39mopen\u001b[39;49m(data,\u001b[39m'\u001b[39;49m\u001b[39mr\u001b[39;49m\u001b[39m'\u001b[39;49m) \u001b[39mas\u001b[39;00m src:\n\u001b[0;32m     <a href='vscode-notebook-cell:/c%3A/data/scripts/multipage/pages/testing.ipynb#W1sZmlsZQ%3D%3D?line=34'>35</a>\u001b[0m     \u001b[39mfor\u001b[39;00m line \u001b[39min\u001b[39;00m src\u001b[39m.\u001b[39mreadlines():\n\u001b[0;32m     <a href='vscode-notebook-cell:/c%3A/data/scripts/multipage/pages/testing.ipynb#W1sZmlsZQ%3D%3D?line=35'>36</a>\u001b[0m         \u001b[39mif\u001b[39;00m line[\u001b[39m0\u001b[39m] \u001b[39min\u001b[39;00m (\u001b[39m'\u001b[39m\u001b[39m0\u001b[39m\u001b[39m'\u001b[39m,\u001b[39m'\u001b[39m\u001b[39m1\u001b[39m\u001b[39m'\u001b[39m):\n",
      "\u001b[1;31mFileNotFoundError\u001b[0m: [Errno 2] No such file or directory: 'assets/fsw_output.txt'"
     ]
    }
   ],
   "source": [
    "import pandas as pd\n",
    "from pathlib import Path\n",
    "import numpy as np\n",
    "#import os\n",
    "\n",
    "#p = Path('/home/tjturnage')\n",
    "p = Path('C:/data/scripts')\n",
    "\n",
    "\n",
    "q = p / 'multipage' / 'assets' / 'Berlin_crimes.csv'\n",
    "\n",
    "if q.exists():\n",
    "    data = q\n",
    "else:\n",
    "    data = \"assets/Berlin_crimes.csv\"\n",
    "\n",
    "df = pd.read_csv(data)\n",
    "\n",
    "#print(df)\n",
    "\n",
    "#os.chdir('C:/data/scripts/Forecast_Search_Wizard/')\n",
    "\n",
    "\n",
    "p = Path('/home/tjturnage')\n",
    "q = p / 'multipage' / 'assets' / 'fsw_output.txt'\n",
    "\n",
    "if q.exists():\n",
    "    data = q\n",
    "else:\n",
    "    data = \"assets/fsw_output.txt\"\n",
    "\n",
    "dts = []\n",
    "product = []\n",
    "with open(data,'r') as src:\n",
    "    for line in src.readlines():\n",
    "        if line[0] in ('0','1'):\n",
    "            values = line.split('\\t')\n",
    "            dts.append(values[0])\n",
    "            product.append(values[1][1:])\n",
    "\n",
    "#print(dts,product)\n",
    "dts_pd = pd.to_datetime(dts,format='%m-%d-%Y %H:%M', infer_datetime_format=False)\n",
    "data = {'dts':dts_pd, 'product':product}\n",
    "df_temp = pd.DataFrame(data)\n",
    "df_temp.set_index('dts', inplace=True)\n",
    "unique_prods = list(df_temp['product'].unique())\n",
    "print(unique_prods)\n",
    "for p in unique_prods:\n",
    "    df_temp[p] = np.where(df_temp['product'] == p,1,0)\n",
    "\n",
    "df_filtered = (\n",
    "    df_filtered.groupby([\"Year\", \"District\"])[[\"Graffiti\"]]\n",
    "    .median()\n",
    "    .reset_index()\n",
    ")\n",
    "\n",
    "print(df_filtered)"
   ]
  }
 ],
 "metadata": {
  "kernelspec": {
   "display_name": "mydashenv",
   "language": "python",
   "name": "python3"
  },
  "language_info": {
   "codemirror_mode": {
    "name": "ipython",
    "version": 3
   },
   "file_extension": ".py",
   "mimetype": "text/x-python",
   "name": "python",
   "nbconvert_exporter": "python",
   "pygments_lexer": "ipython3",
   "version": "3.10.4"
  },
  "orig_nbformat": 4,
  "vscode": {
   "interpreter": {
    "hash": "74bdc28edc52f6095eb7a4bcd585bfd32169b2465ff3caa4592f95870b5ba073"
   }
  }
 },
 "nbformat": 4,
 "nbformat_minor": 2
}
