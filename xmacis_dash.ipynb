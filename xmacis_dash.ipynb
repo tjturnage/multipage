{
  "cells": [
    {
      "cell_type": "markdown",
      "metadata": {
        "id": "view-in-github",
        "colab_type": "text"
      },
      "source": [
        "<a href=\"https://colab.research.google.com/github/tjturnage/multipage/blob/master/xmacis_dash.ipynb\" target=\"_parent\"><img src=\"https://colab.research.google.com/assets/colab-badge.svg\" alt=\"Open In Colab\"/></a>"
      ]
    },
    {
      "cell_type": "code",
      "execution_count": 1,
      "metadata": {
        "colab": {
          "base_uri": "https://localhost:8080/"
        },
        "id": "haB6p-tnFkWy",
        "outputId": "6c2c847e-73a0-4df4-936d-44a9173ba9d6"
      },
      "outputs": [
        {
          "output_type": "stream",
          "name": "stdout",
          "text": [
            "\u001b[2K     \u001b[90m━━━━━━━━━━━━━━━━━━━━━━━━━━━━━━━━━━━━━━━━\u001b[0m \u001b[32m9.9/9.9 MB\u001b[0m \u001b[31m16.0 MB/s\u001b[0m eta \u001b[36m0:00:00\u001b[0m\n",
            "\u001b[2K     \u001b[90m━━━━━━━━━━━━━━━━━━━━━━━━━━━━━━━━━━━━━━━━\u001b[0m \u001b[32m1.6/1.6 MB\u001b[0m \u001b[31m16.7 MB/s\u001b[0m eta \u001b[36m0:00:00\u001b[0m\n",
            "\u001b[?25hLooking in indexes: https://pypi.org/simple, https://us-python.pkg.dev/colab-wheels/public/simple/\n",
            "Collecting dash-bootstrap-components\n",
            "  Downloading dash_bootstrap_components-1.3.1-py3-none-any.whl (219 kB)\n",
            "\u001b[2K     \u001b[90m━━━━━━━━━━━━━━━━━━━━━━━━━━━━━━━━━━━━━━━\u001b[0m \u001b[32m219.7/219.7 KB\u001b[0m \u001b[31m2.7 MB/s\u001b[0m eta \u001b[36m0:00:00\u001b[0m\n",
            "\u001b[?25hRequirement already satisfied: dash>=2.0.0 in /usr/local/lib/python3.8/dist-packages (from dash-bootstrap-components) (2.8.1)\n",
            "Requirement already satisfied: dash-html-components==2.0.0 in /usr/local/lib/python3.8/dist-packages (from dash>=2.0.0->dash-bootstrap-components) (2.0.0)\n",
            "Requirement already satisfied: plotly>=5.0.0 in /usr/local/lib/python3.8/dist-packages (from dash>=2.0.0->dash-bootstrap-components) (5.5.0)\n",
            "Requirement already satisfied: Flask>=1.0.4 in /usr/local/lib/python3.8/dist-packages (from dash>=2.0.0->dash-bootstrap-components) (1.1.4)\n",
            "Requirement already satisfied: dash-core-components==2.0.0 in /usr/local/lib/python3.8/dist-packages (from dash>=2.0.0->dash-bootstrap-components) (2.0.0)\n",
            "Requirement already satisfied: dash-table==5.0.0 in /usr/local/lib/python3.8/dist-packages (from dash>=2.0.0->dash-bootstrap-components) (5.0.0)\n",
            "Requirement already satisfied: click<8.0,>=5.1 in /usr/local/lib/python3.8/dist-packages (from Flask>=1.0.4->dash>=2.0.0->dash-bootstrap-components) (7.1.2)\n",
            "Requirement already satisfied: itsdangerous<2.0,>=0.24 in /usr/local/lib/python3.8/dist-packages (from Flask>=1.0.4->dash>=2.0.0->dash-bootstrap-components) (1.1.0)\n",
            "Requirement already satisfied: Jinja2<3.0,>=2.10.1 in /usr/local/lib/python3.8/dist-packages (from Flask>=1.0.4->dash>=2.0.0->dash-bootstrap-components) (2.11.3)\n",
            "Requirement already satisfied: Werkzeug<2.0,>=0.15 in /usr/local/lib/python3.8/dist-packages (from Flask>=1.0.4->dash>=2.0.0->dash-bootstrap-components) (1.0.1)\n",
            "Requirement already satisfied: six in /usr/local/lib/python3.8/dist-packages (from plotly>=5.0.0->dash>=2.0.0->dash-bootstrap-components) (1.15.0)\n",
            "Requirement already satisfied: tenacity>=6.2.0 in /usr/local/lib/python3.8/dist-packages (from plotly>=5.0.0->dash>=2.0.0->dash-bootstrap-components) (8.2.0)\n",
            "Requirement already satisfied: MarkupSafe>=0.23 in /usr/local/lib/python3.8/dist-packages (from Jinja2<3.0,>=2.10.1->Flask>=1.0.4->dash>=2.0.0->dash-bootstrap-components) (2.0.1)\n",
            "Installing collected packages: dash-bootstrap-components\n",
            "Successfully installed dash-bootstrap-components-1.3.1\n"
          ]
        }
      ],
      "source": [
        "!pip install jupyter-dash -q\n",
        "!pip install dash-bootstrap-components\n",
        "import warnings\n",
        "warnings.filterwarnings('ignore')"
      ]
    },
    {
      "cell_type": "code",
      "execution_count": 2,
      "metadata": {
        "id": "d8-RMqF2FkW2",
        "colab": {
          "base_uri": "https://localhost:8080/",
          "height": 381
        },
        "outputId": "fbc5a792-4ffc-45f0-f874-ca167b1a41dd"
      },
      "outputs": [
        {
          "output_type": "stream",
          "name": "stdout",
          "text": [
            "              dts  year  month  day variable  value\n",
            "0      1979-12-31  1979     12   31     mint   26.0\n",
            "1      1980-01-01  1980      1    1     mint   26.0\n",
            "2      1980-01-02  1980      1    2     mint   29.0\n",
            "3      1980-01-03  1980      1    3     mint   24.0\n",
            "4      1980-01-04  1980      1    4     mint   17.0\n",
            "...           ...   ...    ...  ...      ...    ...\n",
            "47248  2023-02-09  2023      2    9     avgt   38.0\n",
            "47249  2023-02-10  2023      2   10     avgt   31.0\n",
            "47250  2023-02-11  2023      2   11     avgt   32.0\n",
            "47251  2023-02-12  2023      2   12     avgt   38.0\n",
            "47252  2023-02-13  2023      2   13     avgt   35.0\n",
            "\n",
            "[47253 rows x 6 columns]\n",
            "dts           object\n",
            "year           int64\n",
            "month          int64\n",
            "day            int64\n",
            "variable    category\n",
            "value        float64\n",
            "dtype: object\n"
          ]
        }
      ],
      "source": [
        "import json\n",
        "import requests\n",
        "#from dataclasses import dataclass, field\n",
        "#from typing import List\n",
        "from jupyter_dash import JupyterDash  # pip install dash\n",
        "from dash import dcc, html, Output, Input, no_update\n",
        "import dash_bootstrap_components as dbc\n",
        "import plotly.express as px\n",
        "import math\n",
        "from datetime import datetime\n",
        "import pandas as pd\n",
        "import numpy as np\n",
        "\n",
        "parms_url = \"http://data.rcc-acis.org/StnData?params=\"\n",
        "meta_url = \"http://data.rcc-acis.org/StnMeta\"\n",
        "\n",
        "class XMACIS():\n",
        "    def __init__(self,station):\n",
        "\n",
        "        self.station = station\n",
        "\n",
        "         #grab metadata related to station's Period Of Record (POR)\n",
        "        self.por_metadata = self.get_por_metadata()\n",
        "        self.df = self.get_all_por_data()\n",
        "\n",
        "\n",
        "    def get_por_metadata(self):\n",
        "        \"\"\"\n",
        "        Returns list of strings: ['YYYY-mm-dd','YYYY-mm-dd']\n",
        "        Refers to first/last dates ofperiod of record\n",
        "        \"\"\"\n",
        "        params = {\"sids\": self.station, \"elems\": \"maxt\", \"meta\": [\"name\",\"valid_daterange\"]}\n",
        "        req = requests.post(meta_url,json=params)\n",
        "        data = req.json()\n",
        "        meta = data['meta'][0]\n",
        "        self.full_name = meta['name']\n",
        "        self.por_start = meta['valid_daterange'][0][0]\n",
        "        self.por_start = '1975-01-01'\n",
        "        self.por_end = meta['valid_daterange'][0][1]\n",
        "        self.por_start = '1979-12-31'\n",
        "        self.por_start_year = int(self.por_start[0:4])\n",
        "        self.por_end_year = int(self.por_end[0:4])\n",
        "        self.por_year_range = self.por_end_year - self.por_start_year + 1\n",
        "        self.por_year_index = pd.date_range(start=f'1/1/{self.por_start_year}', periods=self.por_year_range, freq='Y')\n",
        "        self.por_label = f'{self.por_start_year} - {self.por_end_year}'\n",
        "        return\n",
        "\n",
        "    def get_all_por_data(self):\n",
        "        parms = {\n",
        "        \"sid\":self.station,\n",
        "        \"sdate\":self.por_start,\n",
        "        \"edate\":self.por_end,\n",
        "        \"elems\":[\n",
        "            {\"name\":\"maxt\",\"interval\":\"dly\",\"duration\":\"dly\"},\n",
        "            {\"name\":\"mint\",\"interval\":\"dly\",\"duration\":\"dly\"},\n",
        "            {\"name\":\"avgt\",\"interval\":\"dly\",\"duration\":\"dly\"},\n",
        "            ]}\n",
        "\n",
        "        req = requests.post(parms_url,json=parms)\n",
        "        data = req.json()\n",
        "        df_init = pd.json_normalize(data)\n",
        "        df_dp = df_init[\"data\"].apply(pd.Series).T\n",
        "        df = df_dp[0].apply(pd.Series)\n",
        "        df.columns = ['dts','maxt','mint','avgt']\n",
        "        df['date'] = pd.DatetimeIndex(df['dts'])\n",
        "        df.set_index('date', inplace=True)\n",
        "        df['year'] = df.index.year\n",
        "        df['month'] = df.index.month\n",
        "        df['day'] = df.index.day\n",
        "        df = df.astype({\"dts\":'str', \"year\":'int', \"month\":'int', \"day\":'int', \"maxt\":'int', \"mint\":'int', \"avgt\":'float'}, errors='ignore')\n",
        "        #df['month'] = df.index.strftime('%b'\n",
        "\n",
        "\n",
        "        melted = pd.melt(df, id_vars=['dts','year','month','day'], value_vars=['mint', 'maxt', 'avgt'])\n",
        "        melted = melted.astype({\"variable\": 'category'}, errors='ignore')\n",
        "      \n",
        "        return melted\n",
        "\n",
        "\n",
        "test = XMACIS('GRRthr')\n",
        "print(test.df)\n",
        "print(test.df.dtypes)\n",
        "\n",
        "output = test.df.to_csv(index=False,header=True)\n",
        "#print(output)\n",
        "# name of csv file \n",
        "\n",
        "with open('output-mmtr.csv', 'w') as outfile:\n",
        "  for lines in output:\n",
        "    outfile.write(lines)\n"
      ]
    },
    {
      "cell_type": "code",
      "source": [
        "from jupyter_dash import JupyterDash  # pip install dash\n",
        "from dash import dcc, html, Output, Input, no_update\n",
        "import dash_bootstrap_components as dbc\n",
        "import plotly.express as px\n",
        "import math\n",
        "from datetime import datetime\n",
        "\n",
        "now = datetime.utcnow()\n",
        "THIS_YEAR = now.year        # Set Slider end year to equal current year\n",
        "NEXT_YEAR = THIS_YEAR + 1   # ensures range command to build the slider includes this year\n",
        "\n",
        "app = JupyterDash(__name__, external_stylesheets=[dbc.themes.CYBORG])\n",
        "\n",
        "\n",
        "app.layout = html.Div([\n",
        "    html.H4('Analysis of Iris data using scatter matrix'),\n",
        "    dcc.Dropdown(\n",
        "        id=\"dropdown\",\n",
        "        options=['2015', '2017'],\n",
        "        value=[2015, 2017],\n",
        "        multi=False\n",
        "    ),\n",
        "    dcc.Graph(id=\"graph\"),\n",
        "])\n",
        "\n",
        "\n",
        "\n",
        "@app.callback(\n",
        "    Output(\"graph\", \"fig\"), \n",
        "    Input(\"dropdown\", \"val\"))\n",
        "def update_bar_chart(yr):\n",
        "  #yr = int(val)\n",
        "  dff = test.df.copy(deep=True)\n",
        "  #dff_final = dff[dff['year'] == yr]\n",
        "  #print(dff_final)\n",
        "  fig = px.scatter(dff, x=dff.month, y=dff.value, color=dff.variable)\n",
        "  #fig.update_layout(autotypenumbers='convert types')\n",
        "  return fig\n",
        "\n",
        "\n",
        "app.run_server(mode='inline', port=8030)\n",
        "\n"
      ],
      "metadata": {
        "colab": {
          "base_uri": "https://localhost:8080/",
          "height": 671
        },
        "id": "3soQNCR12ayK",
        "outputId": "045b4beb-60e1-4f18-9ae4-66dcac1b4796"
      },
      "execution_count": 3,
      "outputs": [
        {
          "output_type": "display_data",
          "data": {
            "text/plain": [
              "<IPython.core.display.Javascript object>"
            ],
            "application/javascript": [
              "(async (port, path, width, height, cache, element) => {\n",
              "    if (!google.colab.kernel.accessAllowed && !cache) {\n",
              "      return;\n",
              "    }\n",
              "    element.appendChild(document.createTextNode(''));\n",
              "    const url = await google.colab.kernel.proxyPort(port, {cache});\n",
              "    const iframe = document.createElement('iframe');\n",
              "    iframe.src = new URL(path, url).toString();\n",
              "    iframe.height = height;\n",
              "    iframe.width = width;\n",
              "    iframe.style.border = 0;\n",
              "    iframe.allow = [\n",
              "        'accelerometer',\n",
              "        'autoplay',\n",
              "        'camera',\n",
              "        'clipboard-read',\n",
              "        'clipboard-write',\n",
              "        'gyroscope',\n",
              "        'magnetometer',\n",
              "        'microphone',\n",
              "        'serial',\n",
              "        'usb',\n",
              "        'xr-spatial-tracking',\n",
              "    ].join('; ');\n",
              "    element.appendChild(iframe);\n",
              "  })(8030, \"/\", \"100%\", 650, false, window.element)"
            ]
          },
          "metadata": {}
        }
      ]
    }
  ],
  "metadata": {
    "kernelspec": {
      "display_name": "Python 3",
      "language": "python",
      "name": "python3"
    },
    "language_info": {
      "codemirror_mode": {
        "name": "ipython",
        "version": 3
      },
      "file_extension": ".py",
      "mimetype": "text/x-python",
      "name": "python",
      "nbconvert_exporter": "python",
      "pygments_lexer": "ipython3",
      "version": "3.8.3"
    },
    "colab": {
      "provenance": [],
      "include_colab_link": true
    }
  },
  "nbformat": 4,
  "nbformat_minor": 0
}